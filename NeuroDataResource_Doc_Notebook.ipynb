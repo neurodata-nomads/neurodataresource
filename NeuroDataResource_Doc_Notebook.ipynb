{
 "cells": [
  {
   "cell_type": "markdown",
   "metadata": {},
   "source": [
    "# NeuroDataResource\n",
    "The following code is a quick walkthrough for working with the NeuroDataResource class to pull data from the boss.\n",
    "\n",
    "The NeuroDataResource class has the following dependencies:\n",
    "\n",
    "```\n",
    "intern==0.9.4\n",
    "numpy==1.13.1\n",
    "```\n",
    "\n",
    "\n",
    "## Importing NeuroDataResource"
   ]
  },
  {
   "cell_type": "code",
   "execution_count": 1,
   "metadata": {},
   "outputs": [],
   "source": [
    "from NeuroDataResource import NeuroDataResource"
   ]
  },
  {
   "cell_type": "markdown",
   "metadata": {},
   "source": [
    "## Initializing NeuroDataResource \n",
    "The NeuroDataResource initializer takes the following arguments. If you are unsure about what some of these arguments mean, see \"Boss TL;DR\" section:\n",
    "- host: the url address where the boss (or your data store) lives\n",
    "- token: your boss API key\n",
    "- collection: the name of the data collection in boss\n",
    "- experiment: the name of the experiment in the boss\n",
    "\n",
    "### Example"
   ]
  },
  {
   "cell_type": "code",
   "execution_count": 2,
   "metadata": {
    "collapsed": true
   },
   "outputs": [],
   "source": [
    "'''\n",
    "Loading my API key from a file so I don't have to push it\n",
    "'''\n",
    "import pickle\n",
    "token = pickle.load(open('./data/token.pkl', 'rb'))"
   ]
  },
  {
   "cell_type": "code",
   "execution_count": 3,
   "metadata": {},
   "outputs": [],
   "source": [
    "myResource = NeuroDataResource(host = 'api.boss.neurodata.io',\n",
    "                               token = token,\n",
    "                               collection = 'collman',\n",
    "                               experiment = 'collman15v2')"
   ]
  },
  {
   "cell_type": "markdown",
   "metadata": {},
   "source": [
    "## NeuroDataResource Attributes\n",
    "There are five main methods in the NeuroDataResource class:\n",
    "    1. collection\n",
    "    2. experiment\n",
    "    3. channels\n",
    "    4. max_dimensions\n",
    "    5. voxel_size\n",
    "    \n",
    "    \n",
    "### collection\n",
    "This attribute is the collection that was used to initialize NeuroDataResource."
   ]
  },
  {
   "cell_type": "code",
   "execution_count": 4,
   "metadata": {},
   "outputs": [
    {
     "data": {
      "text/plain": [
       "'collman'"
      ]
     },
     "execution_count": 4,
     "metadata": {},
     "output_type": "execute_result"
    }
   ],
   "source": [
    "myResource.collection"
   ]
  },
  {
   "cell_type": "markdown",
   "metadata": {},
   "source": [
    "### experiment\n",
    "This attribute is the experiment name that was used to initialize NeuroDataResource"
   ]
  },
  {
   "cell_type": "code",
   "execution_count": 5,
   "metadata": {},
   "outputs": [
    {
     "data": {
      "text/plain": [
       "'collman15v2'"
      ]
     },
     "execution_count": 5,
     "metadata": {},
     "output_type": "execute_result"
    }
   ],
   "source": [
    "myResource.experiment"
   ]
  },
  {
   "cell_type": "markdown",
   "metadata": {},
   "source": [
    "### channels\n",
    "This attribute lists all the channels in the experiment."
   ]
  },
  {
   "cell_type": "code",
   "execution_count": 6,
   "metadata": {},
   "outputs": [
    {
     "data": {
      "text/plain": [
       "['annotation',\n",
       " 'DAPI1st',\n",
       " 'DAPI2nd',\n",
       " 'DAPI3rd',\n",
       " 'EM25K',\n",
       " 'EM2k',\n",
       " 'GABA488',\n",
       " 'GAD647',\n",
       " 'gephyrin594',\n",
       " 'GS594',\n",
       " 'MBP488',\n",
       " 'NR1594',\n",
       " 'PSD95_488',\n",
       " 'Synapsin647',\n",
       " 'VGluT1_647']"
      ]
     },
     "execution_count": 6,
     "metadata": {},
     "output_type": "execute_result"
    }
   ],
   "source": [
    "myResource.channels"
   ]
  },
  {
   "cell_type": "markdown",
   "metadata": {},
   "source": [
    "### max_dimensions\n",
    "This attribute shows the maximum dimensions of the dataset in (z, y, x) format."
   ]
  },
  {
   "cell_type": "code",
   "execution_count": 7,
   "metadata": {},
   "outputs": [
    {
     "data": {
      "text/plain": [
       "(27, 4518, 6306)"
      ]
     },
     "execution_count": 7,
     "metadata": {},
     "output_type": "execute_result"
    }
   ],
   "source": [
    "myResource.max_dimensions"
   ]
  },
  {
   "cell_type": "markdown",
   "metadata": {},
   "source": [
    "### voxel_size\n",
    "This attribute shows the size of each voxel in (z, y, x) format."
   ]
  },
  {
   "cell_type": "code",
   "execution_count": 8,
   "metadata": {},
   "outputs": [
    {
     "data": {
      "text/plain": [
       "(70.0, 2.24, 2.24)"
      ]
     },
     "execution_count": 8,
     "metadata": {},
     "output_type": "execute_result"
    }
   ],
   "source": [
    "myResource.voxel_size"
   ]
  },
  {
   "cell_type": "markdown",
   "metadata": {},
   "source": [
    "## NeuroDataResource Methods\n",
    "There are two main methods in the NeuroDataResource class:\n",
    "    1. assert_channel_exists\n",
    "    2. get_cutout\n",
    "    \n",
    "### assert_channel_exists\n",
    "This method does exactly what it sounds like - it asserts that a channel exists in your NeuroDataResource instance. It takes one argument:\n",
    "    - channel: the channel to check\n",
    "   \n",
    "    "
   ]
  },
  {
   "cell_type": "code",
   "execution_count": 9,
   "metadata": {},
   "outputs": [
    {
     "data": {
      "text/plain": [
       "True"
      ]
     },
     "execution_count": 9,
     "metadata": {},
     "output_type": "execute_result"
    }
   ],
   "source": [
    "myResource.assert_channel_exists('annotation') #This channel does exist"
   ]
  },
  {
   "cell_type": "code",
   "execution_count": 10,
   "metadata": {},
   "outputs": [
    {
     "data": {
      "text/plain": [
       "False"
      ]
     },
     "execution_count": 10,
     "metadata": {},
     "output_type": "execute_result"
    }
   ],
   "source": [
    "myResource.assert_channel_exists('notAChannel') #This channel does not exist"
   ]
  },
  {
   "cell_type": "markdown",
   "metadata": {},
   "source": [
    "### get_cutout\n",
    "This method retrieves a cutout from the collection and experiment that you initialized the class with. It takes the following arguments:\n",
    "    -chan: the channel to get the cutout from (must exist in your NeuroDataResource instance)\n",
    "    - zRange: a list of [lowerBound, upperbound] for the cutout on the z axis\n",
    "    - yRange: a list of [lowerBound, upperbound] for the cutout on the y axis\n",
    "    - xRange: a list of [lowerBound, upperbound] for the cutout on the x axis\n",
    "    \n",
    "### Example"
   ]
  },
  {
   "cell_type": "code",
   "execution_count": 11,
   "metadata": {
    "scrolled": true
   },
   "outputs": [],
   "source": [
    "data = myResource.get_cutout('annotation',\n",
    "                             zRange = [0, 10],\n",
    "                             yRange = [10, 20],\n",
    "                             xRange = [10, 20])"
   ]
  },
  {
   "cell_type": "markdown",
   "metadata": {},
   "source": [
    "# Boss TL;DR\n",
    "\n",
    "The way that BOSS categorizes data is kind of confusing, and its UI can be unclear at times. The following is a walkthrough of where on boss you need to go to get the information to initialize a NeuroDataResource class\n",
    "\n",
    "All of these steps originate from the homepage at:\n",
    "```\n",
    "https://api.boss.neurodata.io/v1/mgmt/\n",
    "```\n",
    "\n",
    "*Green Circles* denote information that you will need for the initializer of the class\n",
    "*Red Circles* show you where to click next\n",
    "\n",
    "# Getting an API Key\n",
    "\n",
    "![image not found :(](./documentationPictures/get_api_key.png)\n",
    "\n",
    "# Getting Experiment and Collection\n",
    "\n",
    "![image not found :(](./documentationPictures/a.png)\n",
    "\n",
    "![image not found :(](./documentationPictures/b.png)\n",
    "\n",
    "![image not found :(](./documentationPictures/c.png)\n",
    "\n"
   ]
  },
  {
   "cell_type": "code",
   "execution_count": null,
   "metadata": {
    "collapsed": true
   },
   "outputs": [],
   "source": []
  }
 ],
 "metadata": {
  "kernelspec": {
   "display_name": "nomads",
   "language": "python",
   "name": "nomads"
  },
  "language_info": {
   "codemirror_mode": {
    "name": "ipython",
    "version": 3
   },
   "file_extension": ".py",
   "mimetype": "text/x-python",
   "name": "python",
   "nbconvert_exporter": "python",
   "pygments_lexer": "ipython3",
   "version": "3.6.3"
  }
 },
 "nbformat": 4,
 "nbformat_minor": 2
}
